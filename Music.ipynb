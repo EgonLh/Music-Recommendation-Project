{
 "cells": [
  {
   "cell_type": "code",
   "execution_count": 49,
   "id": "0acaa2bb-a3df-4171-bfb4-0eddf66412b4",
   "metadata": {},
   "outputs": [],
   "source": [
    "import pandas as pd\n",
    "from sklearn.tree import DecisionTreeClassifier\n",
    "from sklearn.model_selection import train_test_split\n",
    "from sklearn.metrics import accuracy_score\n",
    "\n",
    "music_data = pd.read_csv('music.csv')\n",
    "X = music_data.drop(columns=['genre'])\n",
    "# X\n",
    "Y = music_data['genre']\n",
    "# Traning\n",
    "X_train,X_test,Y_train,Y_test =  train_test_split(X,Y,test_size=0.2)\n",
    "# Y\n",
    "\n",
    "model = DecisionTreeClassifier()\n",
    "model.fit(X_train,Y_train)\n",
    "predictions = model.predict(X_test)\n",
    "# predictions\n",
    "\n",
    "score = accuracy_score(Y_test, predictions)\n",
    "# score"
   ]
  },
  {
   "cell_type": "code",
   "execution_count": 41,
   "id": "029374e9-a56b-4009-8d1f-eae2d290ae61",
   "metadata": {},
   "outputs": [],
   "source": [
    "# creating model\n",
    "import joblib\n",
    "import pandas as pd\n",
    "from sklearn.tree import DecisionTreeClassifier\n",
    "\n",
    "\n",
    "music_data = pd.read_csv('music.csv')\n",
    "X = music_data.drop(columns=['genre'])\n",
    "Y = music_data['genre']\n",
    "\n",
    "model = DecisionTreeClassifier()\n",
    "model.fit(X.values,Y)\n",
    "\n",
    "joblib.dump(model, 'music-recommender.joblib')\n",
    "\n",
    "# predictions = model.predict([[21,1]])"
   ]
  },
  {
   "cell_type": "code",
   "execution_count": 48,
   "id": "b2170b2d-1a63-4b9b-b651-b4a0f1464503",
   "metadata": {},
   "outputs": [
    {
     "data": {
      "text/plain": [
       "array(['Jazz'], dtype=object)"
      ]
     },
     "execution_count": 48,
     "metadata": {},
     "output_type": "execute_result"
    }
   ],
   "source": [
    "# predict\n",
    "import joblib\n",
    "import pandas as pd\n",
    "from sklearn.tree import DecisionTreeClassifier\n",
    "\n",
    "model = joblib.load('music-recommender.joblib')\n",
    "predictions = model.predict([[26,1]])\n",
    "# predictions"
   ]
  },
  {
   "cell_type": "code",
   "execution_count": 51,
   "id": "90e24259-963c-4e5a-a924-0442e2dbf170",
   "metadata": {},
   "outputs": [],
   "source": [
    "# visualize \n",
    "import pandas as pd\n",
    "from sklearn.tree import DecisionTreeClassifier\n",
    "from sklearn import tree\n",
    "\n",
    "music_data = pd.read_csv('music.csv')\n",
    "X = music_data.drop(columns=['genre'])\n",
    "Y = music_data['genre']\n",
    "\n",
    "model = DecisionTreeClassifier()\n",
    "model.fit(X.values,Y)\n",
    "\n",
    "tree.export_graphviz(model, out_file = 'music-recommender.dot',\n",
    "                     feature_names =['age','gender'],\n",
    "                    class_names = sorted(Y.unique()),\n",
    "                    label='all',rounded=True,filled = True)"
   ]
  },
  {
   "cell_type": "code",
   "execution_count": null,
   "id": "65dfe00d-85c0-4727-99ba-6522039f15e8",
   "metadata": {},
   "outputs": [],
   "source": []
  }
 ],
 "metadata": {
  "kernelspec": {
   "display_name": "Python 3 (ipykernel)",
   "language": "python",
   "name": "python3"
  },
  "language_info": {
   "codemirror_mode": {
    "name": "ipython",
    "version": 3
   },
   "file_extension": ".py",
   "mimetype": "text/x-python",
   "name": "python",
   "nbconvert_exporter": "python",
   "pygments_lexer": "ipython3",
   "version": "3.11.7"
  }
 },
 "nbformat": 4,
 "nbformat_minor": 5
}
